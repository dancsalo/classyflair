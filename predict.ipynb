{
 "cells": [
  {
   "cell_type": "code",
   "execution_count": 2,
   "metadata": {},
   "outputs": [],
   "source": [
    "import spacy\n",
    "from classyflair.classes import ClassySentence\n",
    "from models import TwoLayerMLPdp\n",
    "\n",
    "# define tokenizer\n",
    "nlp = spacy.load('en_core_web_sm')\n",
    "\n",
    "def tokenizer(text: str):\n",
    "    return [{'text': token.text, 'idx': token.idx} for token in nlp(text)]\n",
    "\n",
    "# load trained model\n",
    "model = TwoLayerMLPdp.load_from_file('example.pt')"
   ]
  },
  {
   "cell_type": "code",
   "execution_count": 4,
   "metadata": {},
   "outputs": [
    {
     "name": "stdout",
     "output_type": "stream",
     "text": [
      "MISC -3.6\n",
      "BASE -0.2\n",
      "OWNX 2.2\n",
      "CONT -4.9\n",
      "AIMX 6.7\n"
     ]
    }
   ],
   "source": [
    "# create example sentences\n",
    "text1 = 'in this paper we derive the equations for loop corrected belief propagation on a continuous variable gaussian model'\n",
    "text2 = 'Using the exactness of the averages for belief propagation for Gaussian models, a  different way of obtaining the covariances is found,  based on Belief Propagation on cavity graphs'\n",
    "sentence = ClassySentence(text=text1, tokenizer=tokenizer)\n",
    "\n",
    "# predict scores and print with labels\n",
    "scores = model.get_scores(sentence)\n",
    "dic = model.label_dictionary.get_items()\n",
    "\n",
    "for s, d in zip(scores, dic):\n",
    "    print(d, round(float(s.numpy()), 1))"
   ]
  }
 ],
 "metadata": {
  "kernelspec": {
   "display_name": "classyflair",
   "language": "python",
   "name": "classyflair"
  },
  "language_info": {
   "codemirror_mode": {
    "name": "ipython",
    "version": 3
   },
   "file_extension": ".py",
   "mimetype": "text/x-python",
   "name": "python",
   "nbconvert_exporter": "python",
   "pygments_lexer": "ipython3",
   "version": "3.7.1"
  }
 },
 "nbformat": 4,
 "nbformat_minor": 2
}
